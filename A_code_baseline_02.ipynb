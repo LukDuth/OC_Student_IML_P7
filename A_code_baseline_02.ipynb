{
 "cells": [
  {
   "cell_type": "markdown",
   "id": "d1e47d39-e987-4292-b09e-12cc28164791",
   "metadata": {},
   "source": [
    "# <u><b>0 - Préambule au code</b></u>"
   ]
  },
  {
   "cell_type": "markdown",
   "id": "177129c9-8eeb-4947-abb2-5ff5f7f7375c",
   "metadata": {},
   "source": [
    "## <b><u>0.1 - Ensemble des variables à modifier en début d'exécution du Notebook :</u></b>\n",
    "!!! On attire l'attention du lecteur/utilisateur sur les variables ci dessous :\n",
    "- <b>Les chemins d'accès de données :</b> Ils sont définis localement, et depuis peu de façon relative au répertoire contenant ce notebook. Le lecteur/utilisateur est libre de les modifier par rapport à son propre environnement, mais il faudra alors veiller à rendre cette modification cohérence avec le bon accès aux fichiers présents ci-dessous dans les répertoires <b>../Cache_fichiers/</b>, <b>../Figures/</b>, etc.\n",
    "- <b>Les booléens d'activation/désactivation :</b> Attention, ces booléens (selon qu'ils prennent True ou False) activent (ou désactivent) des fonctions telles que la sauvegarde en local de fichiers créés à partir de données calculées dans ce notebook, la sauvegarde en local de figures, etc.\n",
    "- <b>Le booléen<i>avec colab</i> :</b> A passer sur True si on utilise le notebook depuis google colab pour qu'il puisse se connecter au drive et avoir accès aux données qui y sont stockées\n",
    "- <b>La variable <i>dossiers_b2d_chiens</i> :</b> Permet de choisir entre l'une des deux base de données (13 races et 28 races, respectivement)."
   ]
  },
  {
   "cell_type": "code",
   "execution_count": 1,
   "id": "259d9cc4-3939-42a4-8106-410b48331d33",
   "metadata": {},
   "outputs": [],
   "source": [
    "# Booléen prioritaire : on exécute le notebook avec Google Collab, vari ou faux !!!\n",
    "avec_colab = False\n",
    "if avec_colab :\n",
    "    from google.colab import drive\n",
    "    drive.mount('/content/drive/')\n",
    "# Jeu de données sur lequel on travaille\n",
    "dossiers_b2d_chiens = [\n",
    "    \"150_dogs_per_race/\", \n",
    "    \"150_dogs_per_race+/\"\n",
    "][1]"
   ]
  },
  {
   "cell_type": "code",
   "execution_count": 2,
   "id": "13af51f8-ee26-4661-86f8-59e5f7078f2d",
   "metadata": {},
   "outputs": [],
   "source": [
    "# Booléen d'activation (ou non) de l'installation des modules/librairies nécessaires au bon fonctionnement de ce Notebook (cf partie 1.1) du Notebook).\n",
    "installation = False\n",
    "\n",
    "### Tout ce qui concerne la base de données\n",
    "# Chemin de données vers la base de données\n",
    "if avec_colab:\n",
    "    #\"/content/drive/My Drive/P6/B2D/Images/\"\n",
    "    path_b2d = \"/content/drive/My Drive/P7/Notebook/\"+dossiers_b2d_chiens\n",
    "else :\n",
    "    #\"C:/Users/luked/Documents/Formation_Ingenieur_ML/Projets/P6/B2D/\n",
    "    #\"dogs_standford_dataset\"\n",
    "    #\"../../../P6/B2D/Images/\"\n",
    "    path_b2d = dossiers_b2d_chiens\n",
    "    \n",
    "### Tout ce qui concerne les figures\n",
    "# Sauvegarde des figures \n",
    "sauvegarde_figure = True \n",
    "if sauvegarde_figure :\n",
    "    prefixe = dossiers_b2d_chiens[:-1]+'_'\n",
    "    # chemin de données vers répertoire de stockage\n",
    "    if avec_colab :\n",
    "        path_fig = \"/content/drive/My Drive/P7/Figures/\"+prefixe\n",
    "    else :\n",
    "        path_fig = \"../Figures/\"+prefixe\n",
    "\n",
    "### Tout ce qui concerne le cache des fichiers (pour ne pas avoir à refaire tous les calculs systématiquement)\n",
    "# Sauvegarde des figures \n",
    "sauvegarde_fichiers = True \n",
    "if sauvegarde_fichiers :\n",
    "    prefixe = dossiers_b2d_chiens[:-1]+'_'\n",
    "    # Chemin de données vers répertoire de stockage\n",
    "    if avec_colab :\n",
    "        path_cache_output = \"/content/drive/My Drive/P7/Cache_fichiers/\"+prefixe\n",
    "    else :\n",
    "        path_cache_output = \"../Cache_fichiers/\"+prefixe\n",
    "\n",
    "### Autres\n",
    "# Booléens d'activation de la mise de côté des calculs longs, au profit du chargement des résultats de ces calculs, préalablement sauvegardés en local\n",
    "court_circuiter = True"
   ]
  },
  {
   "cell_type": "markdown",
   "id": "ac08a935-ec16-45d0-85ac-095c50c38c05",
   "metadata": {
    "tags": []
   },
   "source": [
    "## <u><b>0.2 - Installation éventuelle de librairies python :</b></u>\n",
    "!!! Sautez cette étape si vous les avez déjà sur votre ordinateur, en mettant le booléen <i>installation</i> à <i>False</i>."
   ]
  },
  {
   "cell_type": "code",
   "execution_count": 3,
   "id": "bb2e24ed-fa21-4077-98df-23a9807612c6",
   "metadata": {},
   "outputs": [],
   "source": [
    "if installation :\n",
    "    !pip install Pillow\n",
    "    !pip install transformers\n",
    "    !pip install tensorflow"
   ]
  },
  {
   "cell_type": "markdown",
   "id": "9b58b939-81ec-494b-bf33-869645fa5f8e",
   "metadata": {},
   "source": [
    "## <u><b>0.3 - Importations de librairies/modules/fonctions python :</b></u>"
   ]
  },
  {
   "cell_type": "code",
   "execution_count": 4,
   "id": "3f044fc6-2c99-405f-9052-daef8b2f2adb",
   "metadata": {},
   "outputs": [],
   "source": [
    "import os\n",
    "### Quelques classiques des notebooks scientifiques\n",
    "import numpy as np\n",
    "import matplotlib.pyplot as plt\n",
    "from matplotlib import cm\n",
    "### Traitement de texe\n",
    "from re import split\n",
    "### Mesure du temps\n",
    "from tqdm import tqdm\n",
    "from time import time\n",
    "### Pickle\n",
    "import pickle"
   ]
  },
  {
   "cell_type": "code",
   "execution_count": 5,
   "id": "47cd51d9-657e-4610-a953-b493da397cf7",
   "metadata": {},
   "outputs": [],
   "source": [
    "from tensorflow.keras import Model\n",
    "from tensorflow.keras.layers import Dense, Flatten\n",
    "from tensorflow.keras.callbacks import EarlyStopping, ModelCheckpoint"
   ]
  },
  {
   "cell_type": "code",
   "execution_count": 6,
   "id": "b5009970-7bc3-4d57-af61-a8790b03fcaa",
   "metadata": {},
   "outputs": [],
   "source": [
    "### Keras\n",
    "from tensorflow.keras.utils import image_dataset_from_directory, set_random_seed\n",
    "from tensorflow.keras.models import load_model\n",
    "from tensorflow.keras.losses import SparseCategoricalCrossentropy\n",
    "from tensorflow.keras.metrics import SparseCategoricalAccuracy\n",
    "from tensorflow.keras.metrics import SparseTopKCategoricalAccuracy"
   ]
  },
  {
   "cell_type": "code",
   "execution_count": 7,
   "id": "c04bafa3-611a-4d4e-abaa-7198afdad71c",
   "metadata": {},
   "outputs": [],
   "source": [
    "from tensorflow.keras.applications.mobilenet_v2 import MobileNetV2\n",
    "from tensorflow.keras.applications.mobilenet_v2 import preprocess_input as preprocin_mobnet2"
   ]
  },
  {
   "cell_type": "markdown",
   "id": "50e48f91-4709-47a6-af90-483bc2e37fb6",
   "metadata": {},
   "source": [
    "## <u><b>0.4 - Définition de constantes personnelles :</b></u>"
   ]
  },
  {
   "cell_type": "code",
   "execution_count": 8,
   "id": "365758ad-0a8a-4fa5-ac8b-0c64f69526e3",
   "metadata": {},
   "outputs": [],
   "source": [
    "### On détermine un entier qui servira à gêler le random state au sein des différentes fonctions\n",
    "rgn = 420"
   ]
  },
  {
   "cell_type": "code",
   "execution_count": 9,
   "id": "8bcf08ea-bf14-4e57-b716-64e9e37166a7",
   "metadata": {},
   "outputs": [],
   "source": [
    "### On bloque le hasrd de numpy et de tensorflow.keras\n",
    "np.random.seed(rgn)\n",
    "set_random_seed(rgn)"
   ]
  },
  {
   "cell_type": "code",
   "execution_count": 10,
   "id": "5cc4634d-1bb4-4c47-91e0-0fa97abb7796",
   "metadata": {},
   "outputs": [],
   "source": [
    "# Liste des répertoires nommés selon le schéma \"identifiant_chien\"\n",
    "list_dir = np.asarray(os.listdir(path=path_b2d))# + 'Images'))\n",
    "# Dictionnaire qui associe [identifiant, chien] à chaque indice de la liste des répertoire\n",
    "n_idchiens = {\n",
    "    n: split(string=list_dir[n], pattern='-') for n in range(len(list_dir))\n",
    "}"
   ]
  },
  {
   "cell_type": "code",
   "execution_count": 11,
   "id": "43f48198-1222-4359-aaf0-387027c90f29",
   "metadata": {},
   "outputs": [],
   "source": [
    "# Liste des étiquettes de chaque image (sous forme de labels)\n",
    "img_class_labels = [\n",
    "    n_idchiens[n][1] for n in range(len(list_dir))\n",
    "]"
   ]
  },
  {
   "cell_type": "markdown",
   "id": "a58119cd-87e3-4234-abd9-457dc7132af5",
   "metadata": {},
   "source": [
    "## <u><b>0.5 - Définition de fonctions personnelles :</b></u>"
   ]
  },
  {
   "cell_type": "markdown",
   "id": "1f26aab1-6844-434f-8711-1a7d685c7bbe",
   "metadata": {},
   "source": [
    "Les 3 fonctions ci-dessous ne sont pas de moi, je ne me les approprie pas ! Elles viennent d'une discussion publique sur <i>Stackoverflow</i> (https://stackoverflow.com/questions/51125266/how-do-i-split-tensorflow-datasets), et servent lors de la re-spération du <i>data set</i> en jeux d'entraînement et de test, lors de la section consacrée à la construction de notre propre CNN."
   ]
  },
  {
   "cell_type": "code",
   "execution_count": 12,
   "id": "46389c13-ed9f-4081-9c96-d75e7f51633a",
   "metadata": {},
   "outputs": [],
   "source": [
    "def is_test(x, y):\n",
    "    \"\"\"Fonction qui renvoit un booléen True si son entrée x est un multiple de 4.\n",
    "    Elle prend deux arguments car x,y = enumerate(dataset), par anticipation de la façon dont est écrit le code en section III.\n",
    "\n",
    "    Arguments de cette fonction :\n",
    "    x -- entier, issu de la fonction enumerate\n",
    "    y -- objet python en train d'être enumérer\"\"\"\n",
    "    return x % 4 == 0\n",
    "###\n",
    "def is_train(x, y):\n",
    "    \"\"\"Fonction qui renvoit un booléen True si son entrée x n'est pas un multiple de 4. \n",
    "    Elle prend deux arguments car x,y = enumerate(dataset), par anticipation de la façon dont est écrit le code en section III.\n",
    "\n",
    "    Arguments de cette fonction :\n",
    "    x -- entier, issu de la fonction enumerate\n",
    "    y -- objet python en train d'être enumérer\"\"\"\n",
    "    return not is_test(x, y)\n",
    "### Fonction lambda adaptée à la restitution d'un dataset après affectation à l'un des deux jeux de test ou d'entraînement grâce aux fonctions ci-dessus\n",
    "recover = lambda x,y: y"
   ]
  },
  {
   "cell_type": "code",
   "execution_count": 13,
   "id": "4000e310-94b3-4067-8a88-b15e81505fbd",
   "metadata": {},
   "outputs": [],
   "source": [
    "def model_fit(X_train, X_val, model_compile, nb_epochs, num_verbose, tab_callbacks):\n",
    "    \"\"\"Fonction qui réalise le fitting d'un objet de type Sequential ou Model du module keras de la librairie tensorflow, et mesure la durée de cet entraînement.\n",
    "\n",
    "    Arguments de cette fonction :\n",
    "    X_train -- dataset correspondant au jeu d'entraînement\n",
    "    X_val -- dataset correspondant au jeu de validation\n",
    "    model_compile -- objet de type Sequential ou Model, précédemment compilé\n",
    "    nb_epochs -- entier, nombre d'itération -epoch- à faire lors de l'entraînement\n",
    "    num_verbose -- entier, valeur de l'hyper-paramètre verbose de la fonction fit qui gère l'affichage de la progression de l'entraînement\n",
    "    tab_callbacks -- liste d'objet de type Callback du module keras de la librairie tensorflow\"\"\"\n",
    "    # Initialisatin de la mesure du temps\n",
    "    t0 = time()\n",
    "    # Entraînement/validation croisée\n",
    "    modele_info = model_compile.fit(X_train, epochs=nb_epochs, validation_data=X_val, verbose=num_verbose, callbacks=tab_callbacks)\n",
    "    # Mesure du temps d'entraînement\n",
    "    delta_t = time()-t0\n",
    "    print(f'Temps d`entraînement : {delta_t : >.1f} secondes')\n",
    "    return model_compile, modele_info, delta_t"
   ]
  },
  {
   "cell_type": "code",
   "execution_count": 14,
   "id": "c2b6ca8f-90f3-4cb8-bcf0-4a5e712f4281",
   "metadata": {},
   "outputs": [],
   "source": [
    "def plot_loss_score(model_info, model_eff, tab_X_test, tab_label, titre):\n",
    "    \"\"\"Fonction qui réalise l'affichage graphique de l'évolution temporelle de la fonction de perte, et du score de précision, lors de l'entraînement.\n",
    "\n",
    "    Arguments de cette fonction :\n",
    "    model_info -- objet de type Sequential ou Model, défini comme un modele précédemment compilé et entraîné (model_info = model_eff.fit()), permettant l'accès à un historique\n",
    "    model_eff-- objet de type Sequential ou Model précédemment compilé et entraîné\n",
    "    tab_X_test -- liste de datasets correspondant à des de jeux de test\n",
    "    tab_label -- liste de labels correspondant à ces jeux de test\n",
    "    titre -- chaîne de caractère, titre du graphe\"\"\"\n",
    "    ### Varibales adaptées aux performances sur les différents jeux\n",
    "    # une liste de tableaux de performances sur les jeux de test, et mesure du temps nécessaire\n",
    "    t0 = time()\n",
    "    perf_test = [model_eff.evaluate(X_test) for X_test in tab_X_test] #[model_eff.evaluate(X_test, y_test) for (X_test, y_test) in zip(tab_X_test, tab_y_test)] \n",
    "    delta_t = time()-t0\n",
    "    print(f'Temps d`évaluation : {delta_t : >.1f} secondes')\n",
    "    # un dictionnaire de l'historique sur validation, la liste des métriques, et la liste des itérations\n",
    "    dico, metric, epoch = model_info.history, model_info.model.metrics_names, model_info.epoch\n",
    "    ### Graphe\n",
    "    plt.figure('Performances '+titre, figsize=(7*len(metric), 7)), plt.clf()\n",
    "    for i in range(0, len(metric)):\n",
    "        axe = plt.subplot(1, len(metric), i+1)\n",
    "        # metric n° i = f(epochs)\n",
    "        axe.set_title(titre+f'\\n{metric[i]} = f(Epochs)', fontsize=15, fontweight='bold') \n",
    "        axe.set_ylabel(metric[i], fontsize=12), axe.set_xlabel('Epochs', fontsize=12)\n",
    "        axe.plot(epoch, dico[metric[i]], label='train set')\n",
    "        axe.plot(epoch, dico['val_'+metric[i]], label='val set')\n",
    "        # On complète avec les perf de la métrique courante sur les jeux de test\n",
    "        for perf, label in zip(perf_test, tab_label):\n",
    "            axe.plot([epoch[-1]+1], perf[i], marker='+', markersize=15, label=label+'test set')\n",
    "        # Legendes\n",
    "        axe.legend(loc='best')\n",
    "    return perf_test[0], delta_t"
   ]
  },
  {
   "cell_type": "code",
   "execution_count": 15,
   "id": "1328f65a-c8b1-40fc-b8f0-8e4190110085",
   "metadata": {},
   "outputs": [],
   "source": [
    "def pickle_save(object_to_save, suffix_title):\n",
    "    \"\"\"Fonction qui sauvegarde un objet en local grâce à des fonctions de la librairie pickle\n",
    "\n",
    "    Arguments de cette fonction :\n",
    "    object_to_save -- objet python à sauver\n",
    "    suffix_title -- chaîne de caractère, titre de la sauvegarde en local, nécessite que la variable de chemin de données path_cache_output ait été définie avant\"\"\"\n",
    "    # on ouvre le mode écriture de l'objet à sauvegarder dans le répertoire pointé par abs_path_cache_output\n",
    "    file_pickel_ab = open(file=path_cache_output+suffix_title,mode='wb')\n",
    "    # sauvegarde effective\n",
    "    pickle.dump(object_to_save, file_pickel_ab)\n",
    "    # fermeture du mode écriture\n",
    "    file_pickel_ab.close()\n",
    "    del file_pickel_ab"
   ]
  },
  {
   "cell_type": "code",
   "execution_count": 16,
   "id": "8efd4270-1f2b-4708-90a5-42e0da1de417",
   "metadata": {},
   "outputs": [],
   "source": [
    "def pickle_load(suffix_title):\n",
    "    \"\"\"Fonction qui charge un objet sauvegardé localement, grâce à des fonctions de la librairie pickle\n",
    "\n",
    "    Arguments de cette fonction :\n",
    "    suffix_title -- chaîne de caractère, titre de la sauvegarde en local, nécessite que la variable de chemin de données path_cache_output ait été définie avant\"\"\"\n",
    "    # on ouvre le mode lecture de l'objet rangé dans le répertoire pointé par abs_path_cache_output\n",
    "    file_pickel_rb = open(file=path_cache_output+suffix_title,mode='rb')\n",
    "    # chargement effectif\n",
    "    objet = pickle.load(file_pickel_rb)\n",
    "    # fermeture du mode lecture\n",
    "    file_pickel_rb.close()\n",
    "    del file_pickel_rb\n",
    "    return objet"
   ]
  },
  {
   "cell_type": "code",
   "execution_count": 17,
   "id": "582afb6c-44ba-4c84-9bab-bafe4784de70",
   "metadata": {},
   "outputs": [],
   "source": [
    "def dict_model(model_info, tps_info, model_eval, tps_eval, nb_train_param, model_title):\n",
    "    \"\"\"Fonction qui crée un dictionnaire analogue à l'historique d'un Sequential/Model déjà entraîné\n",
    "\n",
    "    Arguments de cette fonction :\n",
    "    model_info -- objet de type Sequential ou Model, défini comme un modele précédemment compilé et entraîné, permettant l'accès à un historique\n",
    "    tps_info -- durée de l'entraînement\n",
    "    model_eval-- objet de type Sequential ou Model précédemment compilé et entraîné et après avoir subbit une évaluation\n",
    "    tps_eval -- durée de l'évaluation\n",
    "    tab_label -- liste de labels correspondant à ces jeux de test\n",
    "    model_title -- chaîne de caractère, titre sous lequel on veut sauvegarder le modèle\"\"\"\n",
    "    model_dict = {key : model_info.history[key] for key in model_info.history.keys()}\n",
    "    model_dict['test_loss'], model_dict['test_accuracy'], model_dict['test_top-3-accuracy'] = model_eval[0], model_eval[1], model_eval[2]\n",
    "    model_dict['train_time'], model_dict['test_time'], model_dict['nb_train_param'] = tps_info, tps_eval, nb_train_param\n",
    "    if sauvegarde_fichiers :\n",
    "        pickle_save(object_to_save=model_dict, suffix_title=model_title)"
   ]
  },
  {
   "cell_type": "markdown",
   "id": "9d5ca553-51b8-4181-88bc-933192519783",
   "metadata": {},
   "source": [
    "# <u><b>II - <i>Baseline</i></b></u>"
   ]
  },
  {
   "cell_type": "markdown",
   "id": "f09af699-d4f3-4f4c-8c49-13cf13ce2792",
   "metadata": {},
   "source": [
    "## <u><b>II.A - Les données de travail</b></u>"
   ]
  },
  {
   "cell_type": "markdown",
   "id": "a5f1fc30-08bb-4e07-b3ea-18ba4f0c7d71",
   "metadata": {},
   "source": [
    "### <u><b>II.A.1 - Chargement des données</b></u>"
   ]
  },
  {
   "cell_type": "code",
   "execution_count": 18,
   "id": "bef0ddb3-b925-40df-8fb0-abeeb1f39b3b",
   "metadata": {},
   "outputs": [
    {
     "name": "stdout",
     "output_type": "stream",
     "text": [
      "Found 4200 files belonging to 28 classes.\n",
      "Dataset train chargé en  2.1 secondes.\n"
     ]
    }
   ],
   "source": [
    "### Chargement des données sous la forme d'un tf.data.Dataset\n",
    "# initilisation de mesure du temps\n",
    "t0 = time()\n",
    "# Chargement effectif\n",
    "all_dataset = image_dataset_from_directory(\n",
    "    directory=path_b2d, \n",
    "    label_mode='int',\n",
    "    batch_size=None,#\n",
    "    image_size=(224, 224), \n",
    "    shuffle=False,\n",
    "    seed=rgn\n",
    ")\n",
    "# affichage du temps de cahrgrment\n",
    "print(f'Dataset train chargé en {time()-t0 : .1f} secondes.')\n",
    "del t0"
   ]
  },
  {
   "cell_type": "markdown",
   "id": "7ec81149-926a-480f-8655-cb799dc8a603",
   "metadata": {},
   "source": [
    "### <u><b>II.A.2 - Séparation en jeux d'entraînement, de test et de validation</b></u>"
   ]
  },
  {
   "cell_type": "markdown",
   "id": "91fecc9a-d3c9-4c0b-8b5c-d24cf359a39f",
   "metadata": {},
   "source": [
    "#### <u><b>a) Séparation en jeux d'entraînement, et de test</b></u>"
   ]
  },
  {
   "cell_type": "markdown",
   "id": "7af1a249-3027-4e33-93a5-c33fe90e5d4a",
   "metadata": {},
   "source": [
    "On utilise pour cela les fonctions <i>is_test</i> et <i>is_train</i> définies plus haut, qui permettent d'ailleurs de respecter exactement la même répartition des images entre ces deux jeux que celle effectuée pour le modèle issu de ViT."
   ]
  },
  {
   "cell_type": "code",
   "execution_count": 19,
   "id": "5f3dec05-5472-4f90-be62-b861460668b6",
   "metadata": {},
   "outputs": [],
   "source": [
    "test_dataset = all_dataset.enumerate().filter(is_test).map(recover)\n",
    "train_dataset = all_dataset.enumerate().filter(is_train).map(recover)"
   ]
  },
  {
   "cell_type": "markdown",
   "id": "d0735739-eb59-4bee-a160-03998aea124a",
   "metadata": {},
   "source": [
    "#### <u><b>b) Extraction du jeu de validation à partir du jeu d'entraînement (et régénartion de celui-ci)</b></u>"
   ]
  },
  {
   "cell_type": "code",
   "execution_count": 20,
   "id": "ee04774b-b58c-4f40-8d86-8aab9f184d4c",
   "metadata": {},
   "outputs": [],
   "source": [
    "valid_dataset = train_dataset.enumerate().filter(is_test).map(recover)\n",
    "train_dataset = train_dataset.enumerate().filter(is_train).map(recover)"
   ]
  },
  {
   "cell_type": "markdown",
   "id": "683aa4da-36f6-4f43-9f86-329d9457bbb2",
   "metadata": {},
   "source": [
    "## <u><b>II.B - Pré-traitements</b></u>"
   ]
  },
  {
   "cell_type": "markdown",
   "id": "2284c99e-1603-45b8-85f2-cb5869539e9c",
   "metadata": {},
   "source": [
    "### <u><b>II.B.1 - Sans modification de l'histogramme des pixels des images</b></u>"
   ]
  },
  {
   "cell_type": "markdown",
   "id": "7fe5799d-8d56-4726-a3a5-33317cad2168",
   "metadata": {},
   "source": [
    "#### <u><b>a) Mélanges (<i>shuffle</i>) des jeux</b></u>"
   ]
  },
  {
   "cell_type": "markdown",
   "id": "452e760d-53af-4eb5-a280-8fda82121747",
   "metadata": {},
   "source": [
    "Il faut mélanger aléatoirement les images au sein des jeux, afin d'éviter que ne soient à l'algorithme des séries entières d'images successives apparetant à la même classe (cela pourrait avoir un impact important sur l'apprentissage des poids et epêcher l'algorithme de bien apprendre/généraliser)."
   ]
  },
  {
   "cell_type": "code",
   "execution_count": 21,
   "id": "3e2a5ff1-18a5-4ed5-b01b-3ba84c20109c",
   "metadata": {},
   "outputs": [
    {
     "name": "stdout",
     "output_type": "stream",
     "text": [
      "Le jeu d`entraînement est composé de   2362 images issues de  28 races différentes.\n",
      "Le jeu d`entraînement est composé de    788 images issues de  28 races différentes.\n",
      "Le jeu de test est composé de   1050 images issues de  28 races différentes.\n"
     ]
    }
   ],
   "source": [
    "nb_races_train, train_size = len(np.unique([elem[1] for elem in train_dataset.as_numpy_iterator()])), len([elem[1] for elem in train_dataset.as_numpy_iterator()])\n",
    "print(f'Le jeu d`entraînement est composé de {train_size : >6.0f} images issues de {nb_races_train : >3.0f} races différentes.')\n",
    "nb_races_valid, valid_size = len(np.unique([elem[1] for elem in valid_dataset.as_numpy_iterator()])), len([elem[1] for elem in valid_dataset.as_numpy_iterator()])\n",
    "print(f'Le jeu d`entraînement est composé de {valid_size : >6.0f} images issues de {nb_races_valid : >3.0f} races différentes.')\n",
    "nb_races_test, test_size = len(np.unique([elem[1] for elem in test_dataset.as_numpy_iterator()])), len([elem[1] for elem in test_dataset.as_numpy_iterator()])\n",
    "print(f'Le jeu de test est composé de {test_size : >6.0f} images issues de {nb_races_test : >3.0f} races différentes.')\n",
    "del nb_races_train, nb_races_valid, nb_races_test"
   ]
  },
  {
   "cell_type": "code",
   "execution_count": 22,
   "id": "4a58129c-7caf-4f02-ae2c-8bb9e5f9dfb4",
   "metadata": {},
   "outputs": [],
   "source": [
    "# on effacce les varibales devenues inutiles\n",
    "del all_dataset"
   ]
  },
  {
   "cell_type": "code",
   "execution_count": 23,
   "id": "b906db69-dcca-43c8-9559-c739a059d870",
   "metadata": {},
   "outputs": [],
   "source": [
    "train_dataset = train_dataset.shuffle(buffer_size=train_size, reshuffle_each_iteration=False, seed=rgn)\n",
    "valid_dataset = valid_dataset.shuffle(buffer_size=valid_size, reshuffle_each_iteration=False, seed=rgn)\n",
    "test_dataset = test_dataset.shuffle(buffer_size=test_size, reshuffle_each_iteration=False, seed=rgn)"
   ]
  },
  {
   "cell_type": "markdown",
   "id": "9951bf4c-db44-4d78-8ea8-87b5298e86a8",
   "metadata": {},
   "source": [
    "#### <u><b>b)  Découpages des jeux en <i>batchs</i> de même taille</b></u>"
   ]
  },
  {
   "cell_type": "markdown",
   "id": "4b828f52-c559-4ace-8ca9-6716bba984bc",
   "metadata": {},
   "source": [
    "On veille d'ailleurs à ce que cette taille soit la même que celle du notebook de mise à l'essai du modèle issu de ViT"
   ]
  },
  {
   "cell_type": "code",
   "execution_count": 24,
   "id": "0f3d6c12-ccfa-4675-a8d5-362a7fc4bed8",
   "metadata": {},
   "outputs": [],
   "source": [
    "batch_size = 32"
   ]
  },
  {
   "cell_type": "code",
   "execution_count": 25,
   "id": "7c1d96fa-4343-4e81-9f51-df5874453627",
   "metadata": {},
   "outputs": [],
   "source": [
    "train_dataset = train_dataset.batch(batch_size=batch_size)\n",
    "valid_dataset = valid_dataset.batch(batch_size=batch_size)\n",
    "test_dataset = test_dataset.batch(batch_size=batch_size)"
   ]
  },
  {
   "cell_type": "markdown",
   "id": "dd4d77b9-f05e-4a77-b1d5-7a5647a7e767",
   "metadata": {},
   "source": [
    "### <u><b>II.B.2 - Application du pré-traitement spéciquement requis par notre <i>baseline</i></b></u>"
   ]
  },
  {
   "cell_type": "markdown",
   "id": "8fb77c75-7a98-40f7-9da6-53bdd82d332c",
   "metadata": {},
   "source": [
    "Notre <i>baseline</i> est issue de <i>transfert learning</i> réalisé à partir de MobileNetV2, donc on utilise la fonction de pré-traitement prévue à cet effet dans Keras."
   ]
  },
  {
   "cell_type": "code",
   "execution_count": 26,
   "id": "0ae4c624-b488-423e-bbdd-2d3518312f05",
   "metadata": {},
   "outputs": [],
   "source": [
    "train_ds_bas = train_dataset.map(lambda x,y : (preprocin_mobnet2(x),y))\n",
    "valid_ds_bas = valid_dataset.map(lambda x,y : (preprocin_mobnet2(x),y))\n",
    "test_ds_bas = test_dataset.map(lambda x,y : (preprocin_mobnet2(x),y))"
   ]
  },
  {
   "cell_type": "markdown",
   "id": "17b37fcf-b08c-49c4-b70d-60007ee8fe0e",
   "metadata": {},
   "source": [
    "## <u><b>II.C - Reconstitution de notre <i>baseline</i></b></u>"
   ]
  },
  {
   "cell_type": "markdown",
   "id": "5490fdd1-3da3-4c1c-8463-a950ff180412",
   "metadata": {},
   "source": [
    "Notre <i>baseline</i> est issue de <i>transfert learning</i> réalisé à partir de MobileNetV2. Plus précisément, on fait de l'extraction de features :\n",
    "- suppression des couches denses finales qu'il y a initialement dans MobileNetV2\n",
    "- pas de ré-entraînement des poids de connexions entre les couches précédentes\n",
    "- poids pris tels qu'issus du pré-entraînement sur la base de données ImageNet\n",
    "- on rajoute une nouvelle couche dense finale à autant de sorties qu'il y a de classes à prédire."
   ]
  },
  {
   "cell_type": "markdown",
   "id": "c2ccb0bb-7519-48c7-8ffe-596ac43dc2c4",
   "metadata": {},
   "source": [
    "### <u><b>II.C.1 - Préparation et compilation du modèle</b></u>"
   ]
  },
  {
   "cell_type": "markdown",
   "id": "a1e78194-3f67-4565-b6a6-26d1855f86fe",
   "metadata": {},
   "source": [
    "#### <u><b>a) Définitions de la fonction coût et des métriques</b></u>"
   ]
  },
  {
   "cell_type": "code",
   "execution_count": 27,
   "id": "61103009-d8a2-404c-9890-4484d947a74a",
   "metadata": {},
   "outputs": [],
   "source": [
    "# Fonction coût\n",
    "loss = SparseCategoricalCrossentropy(from_logits=False)\n",
    "# Et métriques\n",
    "metrics = [\n",
    "    SparseCategoricalAccuracy(name=\"accuracy\"),\n",
    "    SparseTopKCategoricalAccuracy(3, name=\"top-3-accuracy\"),\n",
    "]"
   ]
  },
  {
   "cell_type": "markdown",
   "id": "8dac792a-6c01-4af5-8721-9e4d6cf49575",
   "metadata": {},
   "source": [
    "#### <u><b>b) Préparation de l'extraction de features issue du transfert learning, et compilation</b></u>"
   ]
  },
  {
   "cell_type": "code",
   "execution_count": 28,
   "id": "84940d1c-a7aa-4497-92e6-88db73e2e55a",
   "metadata": {},
   "outputs": [
    {
     "name": "stdout",
     "output_type": "stream",
     "text": [
      "Les dimensions de la sortie du MobileNetV2 (rendu ainsi effectif) sont : (None, 28)\n"
     ]
    }
   ],
   "source": [
    "# Charger MobileNetV2 pré-entraîné sur ImageNet et sans les couches fully-connected\n",
    "baseline = MobileNetV2(weights=\"imagenet\", include_top=False, input_shape=(224, 224, 3))\n",
    "# Désactivation de l'apprentissage des couches de VGG16 qu'on a conservées\n",
    "for layer in baseline.layers:\n",
    "    layer.trainable = False\n",
    "# Ajout d'une CCC finale à 120 sorties\n",
    "baseline = Model(inputs=baseline.input, outputs=Dense(len(img_class_labels), activation='softmax')(Flatten()(baseline.output)))\n",
    "# Compiler le modèle (en laissant par défaut optimizer sur une méthode de descente de gradient nommée 'rmsprop')\n",
    "#baseline.compile(loss=\"sparse_categorical_crossentropy\", metrics=[\"sparse_categorical_accuracy\"])\n",
    "baseline.compile(loss=loss, metrics=metrics)\n",
    "print('Les dimensions de la sortie du MobileNetV2 (rendu ainsi effectif) sont :', baseline.output_shape)"
   ]
  },
  {
   "cell_type": "markdown",
   "id": "5c987515-732f-445c-8d60-d774bc14a34e",
   "metadata": {},
   "source": [
    "#### <u><b>c) Définitions des <i>callbacks</i></b></u>"
   ]
  },
  {
   "cell_type": "code",
   "execution_count": 29,
   "id": "f5820a64-9b2d-49eb-8143-462362fa363c",
   "metadata": {},
   "outputs": [],
   "source": [
    "callbacks = []\n",
    "callbacks.append(\n",
    "    EarlyStopping(\n",
    "        verbose=1, monitor=\"val_accuracy\",#'val_sparse_categorical_accuracy', \n",
    "        min_delta=0.025, patience=7\n",
    "    )\n",
    ")\n",
    "callbacks.append(\n",
    "    ModelCheckpoint(\n",
    "        verbose=1, filepath=path_cache_output+'02_baseline_best.h5', \n",
    "        monitor='val_accuracy', save_best_only=True\n",
    "    )\n",
    ")"
   ]
  },
  {
   "cell_type": "markdown",
   "id": "1881f560-01c9-464b-b44c-1dbf078a5f0e",
   "metadata": {},
   "source": [
    "### <u><b>II.C.2 - Entraînement et validation de la baseline</b></u>"
   ]
  },
  {
   "cell_type": "markdown",
   "id": "4c50ba2c-860e-4e87-b6a3-9abc2ee7934b",
   "metadata": {},
   "source": [
    "#### <u><b>a) Entraînement et validation effectifs</b></u>"
   ]
  },
  {
   "cell_type": "code",
   "execution_count": 30,
   "id": "7f9c3bb2-69be-4190-943c-4f0eebdf5094",
   "metadata": {},
   "outputs": [
    {
     "name": "stdout",
     "output_type": "stream",
     "text": [
      "Epoch 1/5\n",
      "\n",
      "Epoch 1: val_accuracy improved from -inf to 0.87817, saving model to ../Cache_fichiers\\150_dogs_per_race+_02_baseline_best.h5\n",
      "74/74 - 21s - loss: 3.1357 - accuracy: 0.7820 - top-3-accuracy: 0.9234 - val_loss: 1.4540 - val_accuracy: 0.8782 - val_top-3-accuracy: 0.9759 - 21s/epoch - 282ms/step\n",
      "Epoch 2/5\n",
      "\n",
      "Epoch 2: val_accuracy improved from 0.87817 to 0.90355, saving model to ../Cache_fichiers\\150_dogs_per_race+_02_baseline_best.h5\n",
      "74/74 - 6s - loss: 0.2741 - accuracy: 0.9670 - top-3-accuracy: 0.9958 - val_loss: 1.6064 - val_accuracy: 0.9036 - val_top-3-accuracy: 0.9772 - 6s/epoch - 83ms/step\n",
      "Epoch 3/5\n",
      "\n",
      "Epoch 3: val_accuracy did not improve from 0.90355\n",
      "74/74 - 6s - loss: 0.1428 - accuracy: 0.9818 - top-3-accuracy: 0.9996 - val_loss: 1.5360 - val_accuracy: 0.8972 - val_top-3-accuracy: 0.9848 - 6s/epoch - 80ms/step\n",
      "Epoch 4/5\n",
      "\n",
      "Epoch 4: val_accuracy did not improve from 0.90355\n",
      "74/74 - 6s - loss: 0.0647 - accuracy: 0.9924 - top-3-accuracy: 1.0000 - val_loss: 1.3880 - val_accuracy: 0.9010 - val_top-3-accuracy: 0.9898 - 6s/epoch - 80ms/step\n",
      "Epoch 5/5\n",
      "\n",
      "Epoch 5: val_accuracy did not improve from 0.90355\n",
      "74/74 - 6s - loss: 0.0190 - accuracy: 0.9975 - top-3-accuracy: 1.0000 - val_loss: 1.3875 - val_accuracy: 0.9010 - val_top-3-accuracy: 0.9848 - 6s/epoch - 80ms/step\n",
      "Temps d`entraînement : 44.9 secondes\n"
     ]
    }
   ],
   "source": [
    "baseline, baseline_info, tps_train_baseline = model_fit(\n",
    "    train_ds_bas, X_val=valid_ds_bas, model_compile=baseline, nb_epochs=5, num_verbose=2, \n",
    "    tab_callbacks=callbacks\n",
    ")"
   ]
  },
  {
   "cell_type": "markdown",
   "id": "04e0fde3-cd74-44c1-9164-78c9f576a6b9",
   "metadata": {},
   "source": [
    "#### <u><b>b) Evaluation sur le jeu de test, et affichages des performances</b></u>"
   ]
  },
  {
   "cell_type": "code",
   "execution_count": 31,
   "id": "06a01f5b-5d65-467f-b4a6-446796c23bb9",
   "metadata": {},
   "outputs": [
    {
     "name": "stdout",
     "output_type": "stream",
     "text": [
      "33/33 [==============================] - 3s 38ms/step - loss: 1.1630 - accuracy: 0.9105 - top-3-accuracy: 0.9800\n",
      "Temps d`évaluation : 3.1 secondes\n"
     ]
    },
    {
     "data": {
      "image/png": "[encoded data removed]",
      "text/plain": [
       "<Figure size 1512x504 with 3 Axes>"
      ]
     },
     "metadata": {
      "needs_background": "light"
     },
     "output_type": "display_data"
    }
   ],
   "source": [
    "baseline_eval, tps_test_baseline = plot_loss_score(\n",
    "    baseline_info, load_model(path_cache_output+'02_baseline_best.h5'), [test_ds_bas], [''], 'Baseline\\n(MobileNetV2 without last FCLs)'\n",
    ")\n",
    "if sauvegarde_figure :\n",
    "    plt.savefig(path_fig+'02_baseline_plot_scores.png')"
   ]
  },
  {
   "cell_type": "markdown",
   "id": "9bef8029-a8fa-4a0e-b400-ca5d6c58895a",
   "metadata": {},
   "source": [
    "#### <u><b>c) Sauvegardes des performances dans un dictionnaire</b></u>\n",
    "On affiche le .summary() pour accéder au nombre de paramètres entraînables de la baseline"
   ]
  },
  {
   "cell_type": "code",
   "execution_count": 32,
   "id": "42416dc0-1d5d-4d84-aedb-0d2cb0dd5cd3",
   "metadata": {},
   "outputs": [
    {
     "name": "stdout",
     "output_type": "stream",
     "text": [
      "Model: \"model\"\n",
      "__________________________________________________________________________________________________\n",
      " Layer (type)                   Output Shape         Param #     Connected to                     \n",
      "==================================================================================================\n",
      " input_1 (InputLayer)           [(None, 224, 224, 3  0           []                               \n",
      "                                )]                                                                \n",
      "                                                                                                  \n",
      " Conv1 (Conv2D)                 (None, 112, 112, 32  864         ['input_1[0][0]']                \n",
      "                                )                                                                 \n",
      "                                                                                                  \n",
      " bn_Conv1 (BatchNormalization)  (None, 112, 112, 32  128         ['Conv1[0][0]']                  \n",
      "                                )                                                                 \n",
      "                                                                                                  \n",
      " Conv1_relu (ReLU)              (None, 112, 112, 32  0           ['bn_Conv1[0][0]']               \n",
      "                                )                                                                 \n",
      "                                                                                                  \n",
      " expanded_conv_depthwise (Depth  (None, 112, 112, 32  288        ['Conv1_relu[0][0]']             \n",
      " wiseConv2D)                    )                                                                 \n",
      "                                                                                                  \n",
      " expanded_conv_depthwise_BN (Ba  (None, 112, 112, 32  128        ['expanded_conv_depthwise[0][0]']\n",
      " tchNormalization)              )                                                                 \n",
      "                                                                                                  \n",
      " expanded_conv_depthwise_relu (  (None, 112, 112, 32  0          ['expanded_conv_depthwise_BN[0][0\n",
      " ReLU)                          )                                ]']                              \n",
      "                                                                                                  \n",
      " expanded_conv_project (Conv2D)  (None, 112, 112, 16  512        ['expanded_conv_depthwise_relu[0]\n",
      "                                )                                [0]']                            \n",
      "                                                                                                  \n",
      " expanded_conv_project_BN (Batc  (None, 112, 112, 16  64         ['expanded_conv_project[0][0]']  \n",
      " hNormalization)                )                                                                 \n",
      "                                                                                                  \n",
      " block_1_expand (Conv2D)        (None, 112, 112, 96  1536        ['expanded_conv_project_BN[0][0]'\n",
      "                                )                                ]                                \n",
      "                                                                                                  \n",
      " block_1_expand_BN (BatchNormal  (None, 112, 112, 96  384        ['block_1_expand[0][0]']         \n",
      " ization)                       )                                                                 \n",
      "                                                                                                  \n",
      " block_1_expand_relu (ReLU)     (None, 112, 112, 96  0           ['block_1_expand_BN[0][0]']      \n",
      "                                )                                                                 \n",
      "                                                                                                  \n",
      " block_1_pad (ZeroPadding2D)    (None, 113, 113, 96  0           ['block_1_expand_relu[0][0]']    \n",
      "                                )                                                                 \n",
      "                                                                                                  \n",
      " block_1_depthwise (DepthwiseCo  (None, 56, 56, 96)  864         ['block_1_pad[0][0]']            \n",
      " nv2D)                                                                                            \n",
      "                                                                                                  \n",
      " block_1_depthwise_BN (BatchNor  (None, 56, 56, 96)  384         ['block_1_depthwise[0][0]']      \n",
      " malization)                                                                                      \n",
      "                                                                                                  \n",
      " block_1_depthwise_relu (ReLU)  (None, 56, 56, 96)   0           ['block_1_depthwise_BN[0][0]']   \n",
      "                                                                                                  \n",
      " block_1_project (Conv2D)       (None, 56, 56, 24)   2304        ['block_1_depthwise_relu[0][0]'] \n",
      "                                                                                                  \n",
      " block_1_project_BN (BatchNorma  (None, 56, 56, 24)  96          ['block_1_project[0][0]']        \n",
      " lization)                                                                                        \n",
      "                                                                                                  \n",
      " block_2_expand (Conv2D)        (None, 56, 56, 144)  3456        ['block_1_project_BN[0][0]']     \n",
      "                                                                                                  \n",
      " block_2_expand_BN (BatchNormal  (None, 56, 56, 144)  576        ['block_2_expand[0][0]']         \n",
      " ization)                                                                                         \n",
      "                                                                                                  \n",
      " block_2_expand_relu (ReLU)     (None, 56, 56, 144)  0           ['block_2_expand_BN[0][0]']      \n",
      "                                                                                                  \n",
      " block_2_depthwise (DepthwiseCo  (None, 56, 56, 144)  1296       ['block_2_expand_relu[0][0]']    \n",
      " nv2D)                                                                                            \n",
      "                                                                                                  \n",
      " block_2_depthwise_BN (BatchNor  (None, 56, 56, 144)  576        ['block_2_depthwise[0][0]']      \n",
      " malization)                                                                                      \n",
      "                                                                                                  \n",
      " block_2_depthwise_relu (ReLU)  (None, 56, 56, 144)  0           ['block_2_depthwise_BN[0][0]']   \n",
      "                                                                                                  \n",
      " block_2_project (Conv2D)       (None, 56, 56, 24)   3456        ['block_2_depthwise_relu[0][0]'] \n",
      "                                                                                                  \n",
      " block_2_project_BN (BatchNorma  (None, 56, 56, 24)  96          ['block_2_project[0][0]']        \n",
      " lization)                                                                                        \n",
      "                                                                                                  \n",
      " block_2_add (Add)              (None, 56, 56, 24)   0           ['block_1_project_BN[0][0]',     \n",
      "                                                                  'block_2_project_BN[0][0]']     \n",
      "                                                                                                  \n",
      " block_3_expand (Conv2D)        (None, 56, 56, 144)  3456        ['block_2_add[0][0]']            \n",
      "                                                                                                  \n",
      " block_3_expand_BN (BatchNormal  (None, 56, 56, 144)  576        ['block_3_expand[0][0]']         \n",
      " ization)                                                                                         \n",
      "                                                                                                  \n",
      " block_3_expand_relu (ReLU)     (None, 56, 56, 144)  0           ['block_3_expand_BN[0][0]']      \n",
      "                                                                                                  \n",
      " block_3_pad (ZeroPadding2D)    (None, 57, 57, 144)  0           ['block_3_expand_relu[0][0]']    \n",
      "                                                                                                  \n",
      " block_3_depthwise (DepthwiseCo  (None, 28, 28, 144)  1296       ['block_3_pad[0][0]']            \n",
      " nv2D)                                                                                            \n",
      "                                                                                                  \n",
      " block_3_depthwise_BN (BatchNor  (None, 28, 28, 144)  576        ['block_3_depthwise[0][0]']      \n",
      " malization)                                                                                      \n",
      "                                                                                                  \n",
      " block_3_depthwise_relu (ReLU)  (None, 28, 28, 144)  0           ['block_3_depthwise_BN[0][0]']   \n",
      "                                                                                                  \n",
      " block_3_project (Conv2D)       (None, 28, 28, 32)   4608        ['block_3_depthwise_relu[0][0]'] \n",
      "                                                                                                  \n",
      " block_3_project_BN (BatchNorma  (None, 28, 28, 32)  128         ['block_3_project[0][0]']        \n",
      " lization)                                                                                        \n",
      "                                                                                                  \n",
      " block_4_expand (Conv2D)        (None, 28, 28, 192)  6144        ['block_3_project_BN[0][0]']     \n",
      "                                                                                                  \n",
      " block_4_expand_BN (BatchNormal  (None, 28, 28, 192)  768        ['block_4_expand[0][0]']         \n",
      " ization)                                                                                         \n",
      "                                                                                                  \n",
      " block_4_expand_relu (ReLU)     (None, 28, 28, 192)  0           ['block_4_expand_BN[0][0]']      \n",
      "                                                                                                  \n",
      " block_4_depthwise (DepthwiseCo  (None, 28, 28, 192)  1728       ['block_4_expand_relu[0][0]']    \n",
      " nv2D)                                                                                            \n",
      "                                                                                                  \n",
      " block_4_depthwise_BN (BatchNor  (None, 28, 28, 192)  768        ['block_4_depthwise[0][0]']      \n",
      " malization)                                                                                      \n",
      "                                                                                                  \n",
      " block_4_depthwise_relu (ReLU)  (None, 28, 28, 192)  0           ['block_4_depthwise_BN[0][0]']   \n",
      "                                                                                                  \n",
      " block_4_project (Conv2D)       (None, 28, 28, 32)   6144        ['block_4_depthwise_relu[0][0]'] \n",
      "                                                                                                  \n",
      " block_4_project_BN (BatchNorma  (None, 28, 28, 32)  128         ['block_4_project[0][0]']        \n",
      " lization)                                                                                        \n",
      "                                                                                                  \n",
      " block_4_add (Add)              (None, 28, 28, 32)   0           ['block_3_project_BN[0][0]',     \n",
      "                                                                  'block_4_project_BN[0][0]']     \n",
      "                                                                                                  \n",
      " block_5_expand (Conv2D)        (None, 28, 28, 192)  6144        ['block_4_add[0][0]']            \n",
      "                                                                                                  \n",
      " block_5_expand_BN (BatchNormal  (None, 28, 28, 192)  768        ['block_5_expand[0][0]']         \n",
      " ization)                                                                                         \n",
      "                                                                                                  \n",
      " block_5_expand_relu (ReLU)     (None, 28, 28, 192)  0           ['block_5_expand_BN[0][0]']      \n",
      "                                                                                                  \n",
      " block_5_depthwise (DepthwiseCo  (None, 28, 28, 192)  1728       ['block_5_expand_relu[0][0]']    \n",
      " nv2D)                                                                                            \n",
      "                                                                                                  \n",
      " block_5_depthwise_BN (BatchNor  (None, 28, 28, 192)  768        ['block_5_depthwise[0][0]']      \n",
      " malization)                                                                                      \n",
      "                                                                                                  \n",
      " block_5_depthwise_relu (ReLU)  (None, 28, 28, 192)  0           ['block_5_depthwise_BN[0][0]']   \n",
      "                                                                                                  \n",
      " block_5_project (Conv2D)       (None, 28, 28, 32)   6144        ['block_5_depthwise_relu[0][0]'] \n",
      "                                                                                                  \n",
      " block_5_project_BN (BatchNorma  (None, 28, 28, 32)  128         ['block_5_project[0][0]']        \n",
      " lization)                                                                                        \n",
      "                                                                                                  \n",
      " block_5_add (Add)              (None, 28, 28, 32)   0           ['block_4_add[0][0]',            \n",
      "                                                                  'block_5_project_BN[0][0]']     \n",
      "                                                                                                  \n",
      " block_6_expand (Conv2D)        (None, 28, 28, 192)  6144        ['block_5_add[0][0]']            \n",
      "                                                                                                  \n",
      " block_6_expand_BN (BatchNormal  (None, 28, 28, 192)  768        ['block_6_expand[0][0]']         \n",
      " ization)                                                                                         \n",
      "                                                                                                  \n",
      " block_6_expand_relu (ReLU)     (None, 28, 28, 192)  0           ['block_6_expand_BN[0][0]']      \n",
      "                                                                                                  \n",
      " block_6_pad (ZeroPadding2D)    (None, 29, 29, 192)  0           ['block_6_expand_relu[0][0]']    \n",
      "                                                                                                  \n",
      " block_6_depthwise (DepthwiseCo  (None, 14, 14, 192)  1728       ['block_6_pad[0][0]']            \n",
      " nv2D)                                                                                            \n",
      "                                                                                                  \n",
      " block_6_depthwise_BN (BatchNor  (None, 14, 14, 192)  768        ['block_6_depthwise[0][0]']      \n",
      " malization)                                                                                      \n",
      "                                                                                                  \n",
      " block_6_depthwise_relu (ReLU)  (None, 14, 14, 192)  0           ['block_6_depthwise_BN[0][0]']   \n",
      "                                                                                                  \n",
      " block_6_project (Conv2D)       (None, 14, 14, 64)   12288       ['block_6_depthwise_relu[0][0]'] \n",
      "                                                                                                  \n",
      " block_6_project_BN (BatchNorma  (None, 14, 14, 64)  256         ['block_6_project[0][0]']        \n",
      " lization)                                                                                        \n",
      "                                                                                                  \n",
      " block_7_expand (Conv2D)        (None, 14, 14, 384)  24576       ['block_6_project_BN[0][0]']     \n",
      "                                                                                                  \n",
      " block_7_expand_BN (BatchNormal  (None, 14, 14, 384)  1536       ['block_7_expand[0][0]']         \n",
      " ization)                                                                                         \n",
      "                                                                                                  \n",
      " block_7_expand_relu (ReLU)     (None, 14, 14, 384)  0           ['block_7_expand_BN[0][0]']      \n",
      "                                                                                                  \n",
      " block_7_depthwise (DepthwiseCo  (None, 14, 14, 384)  3456       ['block_7_expand_relu[0][0]']    \n",
      " nv2D)                                                                                            \n",
      "                                                                                                  \n",
      " block_7_depthwise_BN (BatchNor  (None, 14, 14, 384)  1536       ['block_7_depthwise[0][0]']      \n",
      " malization)                                                                                      \n",
      "                                                                                                  \n",
      " block_7_depthwise_relu (ReLU)  (None, 14, 14, 384)  0           ['block_7_depthwise_BN[0][0]']   \n",
      "                                                                                                  \n",
      " block_7_project (Conv2D)       (None, 14, 14, 64)   24576       ['block_7_depthwise_relu[0][0]'] \n",
      "                                                                                                  \n",
      " block_7_project_BN (BatchNorma  (None, 14, 14, 64)  256         ['block_7_project[0][0]']        \n",
      " lization)                                                                                        \n",
      "                                                                                                  \n",
      " block_7_add (Add)              (None, 14, 14, 64)   0           ['block_6_project_BN[0][0]',     \n",
      "                                                                  'block_7_project_BN[0][0]']     \n",
      "                                                                                                  \n",
      " block_8_expand (Conv2D)        (None, 14, 14, 384)  24576       ['block_7_add[0][0]']            \n",
      "                                                                                                  \n",
      " block_8_expand_BN (BatchNormal  (None, 14, 14, 384)  1536       ['block_8_expand[0][0]']         \n",
      " ization)                                                                                         \n",
      "                                                                                                  \n",
      " block_8_expand_relu (ReLU)     (None, 14, 14, 384)  0           ['block_8_expand_BN[0][0]']      \n",
      "                                                                                                  \n",
      " block_8_depthwise (DepthwiseCo  (None, 14, 14, 384)  3456       ['block_8_expand_relu[0][0]']    \n",
      " nv2D)                                                                                            \n",
      "                                                                                                  \n",
      " block_8_depthwise_BN (BatchNor  (None, 14, 14, 384)  1536       ['block_8_depthwise[0][0]']      \n",
      " malization)                                                                                      \n",
      "                                                                                                  \n",
      " block_8_depthwise_relu (ReLU)  (None, 14, 14, 384)  0           ['block_8_depthwise_BN[0][0]']   \n",
      "                                                                                                  \n",
      " block_8_project (Conv2D)       (None, 14, 14, 64)   24576       ['block_8_depthwise_relu[0][0]'] \n",
      "                                                                                                  \n",
      " block_8_project_BN (BatchNorma  (None, 14, 14, 64)  256         ['block_8_project[0][0]']        \n",
      " lization)                                                                                        \n",
      "                                                                                                  \n",
      " block_8_add (Add)              (None, 14, 14, 64)   0           ['block_7_add[0][0]',            \n",
      "                                                                  'block_8_project_BN[0][0]']     \n",
      "                                                                                                  \n",
      " block_9_expand (Conv2D)        (None, 14, 14, 384)  24576       ['block_8_add[0][0]']            \n",
      "                                                                                                  \n",
      " block_9_expand_BN (BatchNormal  (None, 14, 14, 384)  1536       ['block_9_expand[0][0]']         \n",
      " ization)                                                                                         \n",
      "                                                                                                  \n",
      " block_9_expand_relu (ReLU)     (None, 14, 14, 384)  0           ['block_9_expand_BN[0][0]']      \n",
      "                                                                                                  \n",
      " block_9_depthwise (DepthwiseCo  (None, 14, 14, 384)  3456       ['block_9_expand_relu[0][0]']    \n",
      " nv2D)                                                                                            \n",
      "                                                                                                  \n",
      " block_9_depthwise_BN (BatchNor  (None, 14, 14, 384)  1536       ['block_9_depthwise[0][0]']      \n",
      " malization)                                                                                      \n",
      "                                                                                                  \n",
      " block_9_depthwise_relu (ReLU)  (None, 14, 14, 384)  0           ['block_9_depthwise_BN[0][0]']   \n",
      "                                                                                                  \n",
      " block_9_project (Conv2D)       (None, 14, 14, 64)   24576       ['block_9_depthwise_relu[0][0]'] \n",
      "                                                                                                  \n",
      " block_9_project_BN (BatchNorma  (None, 14, 14, 64)  256         ['block_9_project[0][0]']        \n",
      " lization)                                                                                        \n",
      "                                                                                                  \n",
      " block_9_add (Add)              (None, 14, 14, 64)   0           ['block_8_add[0][0]',            \n",
      "                                                                  'block_9_project_BN[0][0]']     \n",
      "                                                                                                  \n",
      " block_10_expand (Conv2D)       (None, 14, 14, 384)  24576       ['block_9_add[0][0]']            \n",
      "                                                                                                  \n",
      " block_10_expand_BN (BatchNorma  (None, 14, 14, 384)  1536       ['block_10_expand[0][0]']        \n",
      " lization)                                                                                        \n",
      "                                                                                                  \n",
      " block_10_expand_relu (ReLU)    (None, 14, 14, 384)  0           ['block_10_expand_BN[0][0]']     \n",
      "                                                                                                  \n",
      " block_10_depthwise (DepthwiseC  (None, 14, 14, 384)  3456       ['block_10_expand_relu[0][0]']   \n",
      " onv2D)                                                                                           \n",
      "                                                                                                  \n",
      " block_10_depthwise_BN (BatchNo  (None, 14, 14, 384)  1536       ['block_10_depthwise[0][0]']     \n",
      " rmalization)                                                                                     \n",
      "                                                                                                  \n",
      " block_10_depthwise_relu (ReLU)  (None, 14, 14, 384)  0          ['block_10_depthwise_BN[0][0]']  \n",
      "                                                                                                  \n",
      " block_10_project (Conv2D)      (None, 14, 14, 96)   36864       ['block_10_depthwise_relu[0][0]']\n",
      "                                                                                                  \n",
      " block_10_project_BN (BatchNorm  (None, 14, 14, 96)  384         ['block_10_project[0][0]']       \n",
      " alization)                                                                                       \n",
      "                                                                                                  \n",
      " block_11_expand (Conv2D)       (None, 14, 14, 576)  55296       ['block_10_project_BN[0][0]']    \n",
      "                                                                                                  \n",
      " block_11_expand_BN (BatchNorma  (None, 14, 14, 576)  2304       ['block_11_expand[0][0]']        \n",
      " lization)                                                                                        \n",
      "                                                                                                  \n",
      " block_11_expand_relu (ReLU)    (None, 14, 14, 576)  0           ['block_11_expand_BN[0][0]']     \n",
      "                                                                                                  \n",
      " block_11_depthwise (DepthwiseC  (None, 14, 14, 576)  5184       ['block_11_expand_relu[0][0]']   \n",
      " onv2D)                                                                                           \n",
      "                                                                                                  \n",
      " block_11_depthwise_BN (BatchNo  (None, 14, 14, 576)  2304       ['block_11_depthwise[0][0]']     \n",
      " rmalization)                                                                                     \n",
      "                                                                                                  \n",
      " block_11_depthwise_relu (ReLU)  (None, 14, 14, 576)  0          ['block_11_depthwise_BN[0][0]']  \n",
      "                                                                                                  \n",
      " block_11_project (Conv2D)      (None, 14, 14, 96)   55296       ['block_11_depthwise_relu[0][0]']\n",
      "                                                                                                  \n",
      " block_11_project_BN (BatchNorm  (None, 14, 14, 96)  384         ['block_11_project[0][0]']       \n",
      " alization)                                                                                       \n",
      "                                                                                                  \n",
      " block_11_add (Add)             (None, 14, 14, 96)   0           ['block_10_project_BN[0][0]',    \n",
      "                                                                  'block_11_project_BN[0][0]']    \n",
      "                                                                                                  \n",
      " block_12_expand (Conv2D)       (None, 14, 14, 576)  55296       ['block_11_add[0][0]']           \n",
      "                                                                                                  \n",
      " block_12_expand_BN (BatchNorma  (None, 14, 14, 576)  2304       ['block_12_expand[0][0]']        \n",
      " lization)                                                                                        \n",
      "                                                                                                  \n",
      " block_12_expand_relu (ReLU)    (None, 14, 14, 576)  0           ['block_12_expand_BN[0][0]']     \n",
      "                                                                                                  \n",
      " block_12_depthwise (DepthwiseC  (None, 14, 14, 576)  5184       ['block_12_expand_relu[0][0]']   \n",
      " onv2D)                                                                                           \n",
      "                                                                                                  \n",
      " block_12_depthwise_BN (BatchNo  (None, 14, 14, 576)  2304       ['block_12_depthwise[0][0]']     \n",
      " rmalization)                                                                                     \n",
      "                                                                                                  \n",
      " block_12_depthwise_relu (ReLU)  (None, 14, 14, 576)  0          ['block_12_depthwise_BN[0][0]']  \n",
      "                                                                                                  \n",
      " block_12_project (Conv2D)      (None, 14, 14, 96)   55296       ['block_12_depthwise_relu[0][0]']\n",
      "                                                                                                  \n",
      " block_12_project_BN (BatchNorm  (None, 14, 14, 96)  384         ['block_12_project[0][0]']       \n",
      " alization)                                                                                       \n",
      "                                                                                                  \n",
      " block_12_add (Add)             (None, 14, 14, 96)   0           ['block_11_add[0][0]',           \n",
      "                                                                  'block_12_project_BN[0][0]']    \n",
      "                                                                                                  \n",
      " block_13_expand (Conv2D)       (None, 14, 14, 576)  55296       ['block_12_add[0][0]']           \n",
      "                                                                                                  \n",
      " block_13_expand_BN (BatchNorma  (None, 14, 14, 576)  2304       ['block_13_expand[0][0]']        \n",
      " lization)                                                                                        \n",
      "                                                                                                  \n",
      " block_13_expand_relu (ReLU)    (None, 14, 14, 576)  0           ['block_13_expand_BN[0][0]']     \n",
      "                                                                                                  \n",
      " block_13_pad (ZeroPadding2D)   (None, 15, 15, 576)  0           ['block_13_expand_relu[0][0]']   \n",
      "                                                                                                  \n",
      " block_13_depthwise (DepthwiseC  (None, 7, 7, 576)   5184        ['block_13_pad[0][0]']           \n",
      " onv2D)                                                                                           \n",
      "                                                                                                  \n",
      " block_13_depthwise_BN (BatchNo  (None, 7, 7, 576)   2304        ['block_13_depthwise[0][0]']     \n",
      " rmalization)                                                                                     \n",
      "                                                                                                  \n",
      " block_13_depthwise_relu (ReLU)  (None, 7, 7, 576)   0           ['block_13_depthwise_BN[0][0]']  \n",
      "                                                                                                  \n",
      " block_13_project (Conv2D)      (None, 7, 7, 160)    92160       ['block_13_depthwise_relu[0][0]']\n",
      "                                                                                                  \n",
      " block_13_project_BN (BatchNorm  (None, 7, 7, 160)   640         ['block_13_project[0][0]']       \n",
      " alization)                                                                                       \n",
      "                                                                                                  \n",
      " block_14_expand (Conv2D)       (None, 7, 7, 960)    153600      ['block_13_project_BN[0][0]']    \n",
      "                                                                                                  \n",
      " block_14_expand_BN (BatchNorma  (None, 7, 7, 960)   3840        ['block_14_expand[0][0]']        \n",
      " lization)                                                                                        \n",
      "                                                                                                  \n",
      " block_14_expand_relu (ReLU)    (None, 7, 7, 960)    0           ['block_14_expand_BN[0][0]']     \n",
      "                                                                                                  \n",
      " block_14_depthwise (DepthwiseC  (None, 7, 7, 960)   8640        ['block_14_expand_relu[0][0]']   \n",
      " onv2D)                                                                                           \n",
      "                                                                                                  \n",
      " block_14_depthwise_BN (BatchNo  (None, 7, 7, 960)   3840        ['block_14_depthwise[0][0]']     \n",
      " rmalization)                                                                                     \n",
      "                                                                                                  \n",
      " block_14_depthwise_relu (ReLU)  (None, 7, 7, 960)   0           ['block_14_depthwise_BN[0][0]']  \n",
      "                                                                                                  \n",
      " block_14_project (Conv2D)      (None, 7, 7, 160)    153600      ['block_14_depthwise_relu[0][0]']\n",
      "                                                                                                  \n",
      " block_14_project_BN (BatchNorm  (None, 7, 7, 160)   640         ['block_14_project[0][0]']       \n",
      " alization)                                                                                       \n",
      "                                                                                                  \n",
      " block_14_add (Add)             (None, 7, 7, 160)    0           ['block_13_project_BN[0][0]',    \n",
      "                                                                  'block_14_project_BN[0][0]']    \n",
      "                                                                                                  \n",
      " block_15_expand (Conv2D)       (None, 7, 7, 960)    153600      ['block_14_add[0][0]']           \n",
      "                                                                                                  \n",
      " block_15_expand_BN (BatchNorma  (None, 7, 7, 960)   3840        ['block_15_expand[0][0]']        \n",
      " lization)                                                                                        \n",
      "                                                                                                  \n",
      " block_15_expand_relu (ReLU)    (None, 7, 7, 960)    0           ['block_15_expand_BN[0][0]']     \n",
      "                                                                                                  \n",
      " block_15_depthwise (DepthwiseC  (None, 7, 7, 960)   8640        ['block_15_expand_relu[0][0]']   \n",
      " onv2D)                                                                                           \n",
      "                                                                                                  \n",
      " block_15_depthwise_BN (BatchNo  (None, 7, 7, 960)   3840        ['block_15_depthwise[0][0]']     \n",
      " rmalization)                                                                                     \n",
      "                                                                                                  \n",
      " block_15_depthwise_relu (ReLU)  (None, 7, 7, 960)   0           ['block_15_depthwise_BN[0][0]']  \n",
      "                                                                                                  \n",
      " block_15_project (Conv2D)      (None, 7, 7, 160)    153600      ['block_15_depthwise_relu[0][0]']\n",
      "                                                                                                  \n",
      " block_15_project_BN (BatchNorm  (None, 7, 7, 160)   640         ['block_15_project[0][0]']       \n",
      " alization)                                                                                       \n",
      "                                                                                                  \n",
      " block_15_add (Add)             (None, 7, 7, 160)    0           ['block_14_add[0][0]',           \n",
      "                                                                  'block_15_project_BN[0][0]']    \n",
      "                                                                                                  \n",
      " block_16_expand (Conv2D)       (None, 7, 7, 960)    153600      ['block_15_add[0][0]']           \n",
      "                                                                                                  \n",
      " block_16_expand_BN (BatchNorma  (None, 7, 7, 960)   3840        ['block_16_expand[0][0]']        \n",
      " lization)                                                                                        \n",
      "                                                                                                  \n",
      " block_16_expand_relu (ReLU)    (None, 7, 7, 960)    0           ['block_16_expand_BN[0][0]']     \n",
      "                                                                                                  \n",
      " block_16_depthwise (DepthwiseC  (None, 7, 7, 960)   8640        ['block_16_expand_relu[0][0]']   \n",
      " onv2D)                                                                                           \n",
      "                                                                                                  \n",
      " block_16_depthwise_BN (BatchNo  (None, 7, 7, 960)   3840        ['block_16_depthwise[0][0]']     \n",
      " rmalization)                                                                                     \n",
      "                                                                                                  \n",
      " block_16_depthwise_relu (ReLU)  (None, 7, 7, 960)   0           ['block_16_depthwise_BN[0][0]']  \n",
      "                                                                                                  \n",
      " block_16_project (Conv2D)      (None, 7, 7, 320)    307200      ['block_16_depthwise_relu[0][0]']\n",
      "                                                                                                  \n",
      " block_16_project_BN (BatchNorm  (None, 7, 7, 320)   1280        ['block_16_project[0][0]']       \n",
      " alization)                                                                                       \n",
      "                                                                                                  \n",
      " Conv_1 (Conv2D)                (None, 7, 7, 1280)   409600      ['block_16_project_BN[0][0]']    \n",
      "                                                                                                  \n",
      " Conv_1_bn (BatchNormalization)  (None, 7, 7, 1280)  5120        ['Conv_1[0][0]']                 \n",
      "                                                                                                  \n",
      " out_relu (ReLU)                (None, 7, 7, 1280)   0           ['Conv_1_bn[0][0]']              \n",
      "                                                                                                  \n",
      " flatten (Flatten)              (None, 62720)        0           ['out_relu[0][0]']               \n",
      "                                                                                                  \n",
      " dense (Dense)                  (None, 28)           1756188     ['flatten[0][0]']                \n",
      "                                                                                                  \n",
      "==================================================================================================\n",
      "Total params: 4,014,172\n",
      "Trainable params: 1,756,188\n",
      "Non-trainable params: 2,257,984\n",
      "__________________________________________________________________________________________________\n"
     ]
    }
   ],
   "source": [
    "baseline.summary()"
   ]
  },
  {
   "cell_type": "code",
   "execution_count": 37,
   "id": "35c3cb20-e0ce-4a26-8987-70c48e3b03e2",
   "metadata": {},
   "outputs": [],
   "source": [
    "if dossiers_b2d_chiens == \"150_dogs_per_race/\":\n",
    "    baseline_train_param = 815373\n",
    "else :\n",
    "    baseline_train_param = 1756188"
   ]
  },
  {
   "cell_type": "code",
   "execution_count": 38,
   "id": "c937a74a-77fe-4a3e-849e-28a6b18393f0",
   "metadata": {},
   "outputs": [],
   "source": [
    "# sauvegarde effective\n",
    "dict_model(baseline_info, tps_train_baseline, baseline_eval, tps_test_baseline, baseline_train_param, '02_baseline_dict')"
   ]
  },
  {
   "cell_type": "markdown",
   "id": "f191fe67-5036-4204-9a42-83534d174ac4",
   "metadata": {},
   "source": [
    "# <u><b>III - Comparaisons des performances du modèle issu de Vit avec celles de la baseline</b></u>"
   ]
  },
  {
   "cell_type": "code",
   "execution_count": 39,
   "id": "3fd9dd60-a689-4b72-9731-a1cf0c4fe7cc",
   "metadata": {},
   "outputs": [],
   "source": [
    "# Liste des noms sous lesquels sont enregistrés les modèles\n",
    "tab_model = ['01_vit', '02_baseline']\n",
    "# Liste des dictionnaires de performances correspondant\n",
    "tab_dict = [\n",
    "    pickle_load(suffix_title=name+'_dict') for name in tab_model\n",
    "]"
   ]
  },
  {
   "cell_type": "markdown",
   "id": "3a75d947-c565-45bf-984f-07278a5de8a8",
   "metadata": {},
   "source": [
    "Notons que pour les performances temporelles, on tient compte des différences de nombre de poids à re-apprendre lors des phases d'entraînement/validation"
   ]
  },
  {
   "cell_type": "code",
   "execution_count": 40,
   "id": "2f90419d-5519-4d29-a018-0febf36b9219",
   "metadata": {},
   "outputs": [
    {
     "data": {
      "image/png": "[encoded data removed]",
      "text/plain": [
       "<Figure size 1008x1008 with 4 Axes>"
      ]
     },
     "metadata": {
      "needs_background": "light"
     },
     "output_type": "display_data"
    }
   ],
   "source": [
    "plt.figure('Comparaisons performances', figsize=(14,14)), plt.clf()\n",
    "for h, m in enumerate(baseline_info.model.metrics_names):\n",
    "    axe = plt.subplot(2, 2, h+1)\n",
    "    axe.set_title(m+' = f(Epochs)', fontsize=15, fontweight='bold'), axe.set_ylabel(m, fontsize=12), axe.set_xlabel('Epochs', fontsize=12)\n",
    "    for i, (name, dic) in enumerate(zip(tab_model, tab_dict)) :\n",
    "        c = cm.Set1(i)\n",
    "        axe.plot(dic[m], linewidth=2, label=name+'(train)', color=c)\n",
    "        axe.plot(dic['val_'+m], linestyle='--', label=name+'(valid)', color=c)\n",
    "        axe.plot([len(dic[m])], [dic['test_'+m]], label=name+'(test)', color=c, marker='+', markersize=15)\n",
    "    axe.legend(loc='best')\n",
    "# Performance temporelle = f(epochs)\n",
    "axe = plt.subplot(2, 2, 4)\n",
    "axe.set_title('Time performances', fontsize=15, fontweight='bold'), axe.set_ylabel('Time(test)', fontsize=12), axe.set_xlabel('Time(train+valid)/Nb_trainable_param', fontsize=12)\n",
    "for i, (name, dic) in enumerate(zip(tab_model, tab_dict)) :\n",
    "    c = cm.Set1(i)\n",
    "    nb_param = dic['nb_train_param']\n",
    "    axe.plot([dic['train_time']/nb_param], [dic['test_time']], linewidth=2, label=name, color=c, marker='+', markersize=15)\n",
    "# Legends\n",
    "axe.legend(loc='best')\n",
    "if sauvegarde_figure:\n",
    "    plt.savefig(path_fig+'03_comparaison_modeles.png')\n",
    "del h, m, axe, i, name, dic, c, nb_param"
   ]
  },
  {
   "cell_type": "code",
   "execution_count": null,
   "id": "4cfb0930-26c7-4100-a7a6-157bf40ac011",
   "metadata": {},
   "outputs": [],
   "source": []
  }
 ],
 "metadata": {
  "kernelspec": {
   "display_name": "Python 3",
   "language": "python",
   "name": "python3"
  },
  "language_info": {
   "codemirror_mode": {
    "name": "ipython",
    "version": 3
   },
   "file_extension": ".py",
   "mimetype": "text/x-python",
   "name": "python",
   "nbconvert_exporter": "python",
   "pygments_lexer": "ipython3",
   "version": "3.8.8"
  }
 },
 "nbformat": 4,
 "nbformat_minor": 5
}
